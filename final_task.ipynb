{
  "nbformat": 4,
  "nbformat_minor": 0,
  "metadata": {
    "colab": {
      "provenance": [],
      "authorship_tag": "ABX9TyMqabgZBGE9mN/ykdB9z4jr",
      "include_colab_link": true
    },
    "kernelspec": {
      "name": "python3",
      "display_name": "Python 3"
    },
    "language_info": {
      "name": "python"
    }
  },
  "cells": [
    {
      "cell_type": "markdown",
      "metadata": {
        "id": "view-in-github",
        "colab_type": "text"
      },
      "source": [
        "<a href=\"https://colab.research.google.com/github/emelyanov777/test/blob/main/final_task.ipynb\" target=\"_parent\"><img src=\"https://colab.research.google.com/assets/colab-badge.svg\" alt=\"Open In Colab\"/></a>"
      ]
    },
    {
      "cell_type": "code",
      "source": [
        "# pip install faker"
      ],
      "metadata": {
        "id": "4FSEqBHtfJ9x"
      },
      "execution_count": 1,
      "outputs": []
    },
    {
      "cell_type": "code",
      "execution_count": 2,
      "metadata": {
        "colab": {
          "base_uri": "https://localhost:8080/"
        },
        "id": "DyQ_0ngcfDBq",
        "outputId": "747f62a7-54f0-4d0c-ace0-c4bd60983b0a"
      },
      "outputs": [
        {
          "output_type": "stream",
          "name": "stdout",
          "text": [
            "Сгенерировано 100000 записей и сохранено в web_server_logs.csv\n"
          ]
        }
      ],
      "source": [
        "import csv\n",
        "from faker import Faker\n",
        "import random\n",
        "\n",
        "fake = Faker()\n",
        "\n",
        "num_records = 100000\n",
        "\n",
        "http_methods = ['GET', 'POST', 'PUT', 'DELETE']\n",
        "response_codes = [200, 301, 404, 500]\n",
        "\n",
        "file_path = \"web_server_logs.csv\"\n",
        "\n",
        "with open(file_path, mode='w', newline='') as file:\n",
        "    writer = csv.writer(file)\n",
        "    writer.writerow(['ip', 'timestamp', 'method', 'url', 'response_code', 'response_size'])\n",
        "\n",
        "    for _ in range(num_records):\n",
        "        ip = fake.ipv4()\n",
        "        timestamp = fake.date_time_this_year().isoformat()\n",
        "        method = random.choice(http_methods)\n",
        "        url = fake.uri_path()\n",
        "        response_code = random.choice(response_codes)\n",
        "        response_size = random.randint(100, 10000)\n",
        "\n",
        "        writer.writerow([ip, timestamp, method, url, response_code, response_size])\n",
        "\n",
        "print(f\"Сгенерировано {num_records} записей и сохранено в {file_path}\")"
      ]
    },
    {
      "cell_type": "code",
      "source": [
        "from pyspark.sql import SparkSession\n",
        "from pyspark.sql.functions import *"
      ],
      "metadata": {
        "id": "35T3vYCNfFeT"
      },
      "execution_count": 3,
      "outputs": []
    },
    {
      "cell_type": "code",
      "source": [
        "spark = SparkSession.builder.getOrCreate()"
      ],
      "metadata": {
        "id": "7iSYxcAxflfB"
      },
      "execution_count": 4,
      "outputs": []
    },
    {
      "cell_type": "code",
      "source": [
        "df = spark.read.csv('/content/web_server_logs.csv', header = True, inferSchema= True)"
      ],
      "metadata": {
        "id": "Ayw9OVXpgEja"
      },
      "execution_count": 5,
      "outputs": []
    },
    {
      "cell_type": "code",
      "source": [
        "print('Top 10 active IP addreses')\n",
        "df.groupBy(day('timestamp')).agg(count('*').alias('request_count')).orderBy('request_count', ascending = False).limit(10).show()"
      ],
      "metadata": {
        "colab": {
          "base_uri": "https://localhost:8080/"
        },
        "id": "4MWdTs5IghS7",
        "outputId": "d3b6a4b7-da88-4eae-9d07-ef5e9c444084"
      },
      "execution_count": 6,
      "outputs": [
        {
          "output_type": "stream",
          "name": "stdout",
          "text": [
            "Top 10 active IP addreses\n",
            "+--------------+-------------+\n",
            "|            ip|request_count|\n",
            "+--------------+-------------+\n",
            "| 175.67.147.18|            1|\n",
            "|212.50.148.101|            1|\n",
            "| 63.253.52.193|            1|\n",
            "|173.92.211.179|            1|\n",
            "|25.251.126.244|            1|\n",
            "| 217.91.65.246|            1|\n",
            "|197.192.42.149|            1|\n",
            "| 99.234.18.124|            1|\n",
            "| 162.2.161.224|            1|\n",
            "| 33.106.72.223|            1|\n",
            "+--------------+-------------+\n",
            "\n"
          ]
        }
      ]
    },
    {
      "cell_type": "code",
      "source": [
        "print('Request count by HTTP method:')\n",
        "df.groupBy('method').agg({'method': 'count'}).withColumnRenamed('count(method)', 'method_count').show()"
      ],
      "metadata": {
        "colab": {
          "base_uri": "https://localhost:8080/"
        },
        "id": "vpSxNQW0glRy",
        "outputId": "69f45293-32db-420c-ac95-c15a00b72896"
      },
      "execution_count": 7,
      "outputs": [
        {
          "output_type": "stream",
          "name": "stdout",
          "text": [
            "Request count by HTTP method:\n",
            "+------+------------+\n",
            "|method|method_count|\n",
            "+------+------------+\n",
            "|  POST|       25063|\n",
            "|DELETE|       25155|\n",
            "|   PUT|       24942|\n",
            "|   GET|       24840|\n",
            "+------+------------+\n",
            "\n"
          ]
        }
      ]
    },
    {
      "cell_type": "code",
      "source": [
        "k = df.filter(col('response_code') == 404).count()\n",
        "print(f'Number of 404 response codes: {k}')"
      ],
      "metadata": {
        "colab": {
          "base_uri": "https://localhost:8080/"
        },
        "id": "3r_Mol8Tid1c",
        "outputId": "c864c48b-533f-4f37-a3ce-a43bf46a3dd9"
      },
      "execution_count": 8,
      "outputs": [
        {
          "output_type": "stream",
          "name": "stdout",
          "text": [
            "Number of 404 response codes: 24949\n"
          ]
        }
      ]
    },
    {
      "cell_type": "code",
      "source": [
        "df.withColumn(\"date\", date_format(col(\"timestamp\"), \"yyyy-MM-dd\"))\\\n",
        ".groupBy(\"date\").agg({\"response_size\": \"sum\"}).withColumnRenamed(\"sum(response_size)\", \"total_response_size\")\\\n",
        ".orderBy(col(\"date\")).show()"
      ],
      "metadata": {
        "colab": {
          "base_uri": "https://localhost:8080/"
        },
        "id": "KDwIaFFNjzAz",
        "outputId": "847723a8-6aab-4bee-bf65-841c0c7c28bb"
      },
      "execution_count": 17,
      "outputs": [
        {
          "output_type": "stream",
          "name": "stdout",
          "text": [
            "+----------+-------------------+\n",
            "|      date|total_response_size|\n",
            "+----------+-------------------+\n",
            "|2025-01-01|            2343857|\n",
            "|2025-01-02|            2477297|\n",
            "|2025-01-03|            2345592|\n",
            "|2025-01-04|            2398211|\n",
            "|2025-01-05|            2534128|\n",
            "|2025-01-06|            2456092|\n",
            "|2025-01-07|            2531894|\n",
            "|2025-01-08|            2234878|\n",
            "|2025-01-09|            2231241|\n",
            "|2025-01-10|            2503333|\n",
            "|2025-01-11|            2268805|\n",
            "|2025-01-12|            2455301|\n",
            "|2025-01-13|            2349428|\n",
            "|2025-01-14|            2531524|\n",
            "|2025-01-15|            2522620|\n",
            "|2025-01-16|            2640408|\n",
            "|2025-01-17|            2475075|\n",
            "|2025-01-18|            2401956|\n",
            "|2025-01-19|            2415846|\n",
            "|2025-01-20|            2457923|\n",
            "+----------+-------------------+\n",
            "only showing top 20 rows\n",
            "\n"
          ]
        }
      ]
    },
    {
      "cell_type": "code",
      "source": [
        "spark.stop()"
      ],
      "metadata": {
        "id": "OKcWF24glsXO"
      },
      "execution_count": 18,
      "outputs": []
    },
    {
      "cell_type": "code",
      "source": [],
      "metadata": {
        "id": "_iPJYDErm_VT"
      },
      "execution_count": null,
      "outputs": []
    }
  ]
}